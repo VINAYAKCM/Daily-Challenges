{
 "cells": [
  {
   "cell_type": "code",
   "execution_count": 1,
   "id": "cef4c893",
   "metadata": {},
   "outputs": [],
   "source": [
    "import pandas as pd\n",
    "import json\n"
   ]
  },
  {
   "cell_type": "code",
   "execution_count": 7,
   "id": "7526fb79",
   "metadata": {},
   "outputs": [
    {
     "name": "stdout",
     "output_type": "stream",
     "text": [
      "Total rows: 100\n",
      "Sample rows:     user_id     name  language                         feedback\n",
      "5    user_5   User 5     Tamil             bad packaging!! thnx\n",
      "39  user_39  User 39     Tamil         Fast delivery 😊!!! thnx👍\n",
      "68  user_68  User 68   English              not happy bro<html>\n",
      "77  user_77  User 77  Hinglish  damaged item 😡 fast pls macha\\n\n",
      "45  user_45  User 45  Hinglish          Great quality!!!!<html>\n"
     ]
    }
   ],
   "source": [
    "with open(\"customer_feedback.json\", \"r\") as f:\n",
    "    data = json.load(f)\n",
    "\n",
    "df = pd.DataFrame(data)\n",
    "\n",
    "print(\"Total rows:\", len(df))\n",
    "print(\"Sample rows:\", df.sample(5))"
   ]
  },
  {
   "cell_type": "code",
   "execution_count": 8,
   "id": "66c41ac2",
   "metadata": {},
   "outputs": [
    {
     "name": "stdout",
     "output_type": "stream",
     "text": [
      "Columns: ['user_id', 'name', 'language', 'feedback']\n"
     ]
    }
   ],
   "source": [
    "print(\"Columns:\", df.columns.tolist())"
   ]
  },
  {
   "cell_type": "code",
   "execution_count": 9,
   "id": "fedf334b",
   "metadata": {},
   "outputs": [
    {
     "name": "stdout",
     "output_type": "stream",
     "text": [
      "Data types:\n",
      " user_id     object\n",
      "name        object\n",
      "language    object\n",
      "feedback    object\n",
      "dtype: object\n"
     ]
    }
   ],
   "source": [
    "print(\"Data types:\\n\", df.dtypes)\n"
   ]
  },
  {
   "cell_type": "code",
   "execution_count": 10,
   "id": "ba023813",
   "metadata": {},
   "outputs": [
    {
     "name": "stdout",
     "output_type": "stream",
     "text": [
      "Missing values:\n",
      " user_id      0\n",
      "name        15\n",
      "language     0\n",
      "feedback     0\n",
      "dtype: int64\n"
     ]
    }
   ],
   "source": [
    "print(\"Missing values:\\n\", df.isnull().sum())"
   ]
  },
  {
   "cell_type": "code",
   "execution_count": 11,
   "id": "b9b28b46",
   "metadata": {},
   "outputs": [
    {
     "name": "stdout",
     "output_type": "stream",
     "text": [
      "                       feedback       cleaned_feedback\n",
      "55            Nice product 😂              nice product\n",
      "84                 not happy!!👍            not happy!!\n",
      "72        Loved it! fast pls        loved it! fast pls\n",
      "1   bad packaging!!!! bro<html>  bad packaging!!!! bro\n",
      "93       damaged item 😡 macha\\n     damaged item macha\n"
     ]
    }
   ],
   "source": [
    "import re\n",
    "\n",
    "def clean_text(text):\n",
    "    if not isinstance(text, str):\n",
    "        return \"\"\n",
    "\n",
    "    # Remove emojis and special symbols\n",
    "    text = re.sub(r'[^\\x00-\\x7F]+', '', text)\n",
    "\n",
    "    # Remove HTML tags\n",
    "    text = re.sub(r'<.*?>', '', text)\n",
    "\n",
    "    # Remove hashtags, mentions\n",
    "    text = re.sub(r'[@#]\\w+', '', text)\n",
    "\n",
    "    # Remove extra whitespace\n",
    "    text = ' '.join(text.split())\n",
    "\n",
    "    # Lowercase everything\n",
    "    return text.lower()\n",
    "\n",
    "# Apply cleaning\n",
    "df[\"cleaned_feedback\"] = df[\"feedback\"].apply(clean_text)\n",
    "\n",
    "#Cleaned feedback\n",
    "print(df[[\"feedback\", \"cleaned_feedback\"]].sample(5))"
   ]
  },
  {
   "cell_type": "code",
   "execution_count": 12,
   "id": "03076f59",
   "metadata": {},
   "outputs": [
    {
     "name": "stderr",
     "output_type": "stream",
     "text": [
      "/var/folders/kv/p156wb851yjcw0pqx_jjjjg00000gn/T/ipykernel_74912/1684753781.py:2: FutureWarning: A value is trying to be set on a copy of a DataFrame or Series through chained assignment using an inplace method.\n",
      "The behavior will change in pandas 3.0. This inplace method will never work because the intermediate object on which we are setting values always behaves as a copy.\n",
      "\n",
      "For example, when doing 'df[col].method(value, inplace=True)', try using 'df.method({col: value}, inplace=True)' or df[col] = df[col].method(value) instead, to perform the operation inplace on the original object.\n",
      "\n",
      "\n",
      "  df[\"name\"].fillna(\"Anonymous\", inplace=True)\n"
     ]
    }
   ],
   "source": [
    "#Replacing missing values\n",
    "df[\"name\"].fillna(\"Anonymous\", inplace=True)"
   ]
  },
  {
   "cell_type": "code",
   "execution_count": 16,
   "id": "01475996",
   "metadata": {},
   "outputs": [
    {
     "name": "stdout",
     "output_type": "stream",
     "text": [
      "\n",
      "📊 VADER Sentiment Distribution:\n",
      "vader_sentiment\n",
      "Negative    50\n",
      "Positive    39\n",
      "Neutral     11\n",
      "Name: count, dtype: int64\n",
      "\n",
      "🔍 VADER Positive Sample:\n",
      "great quality!!!!\n",
      "\n",
      "🔍 VADER Negative Sample:\n",
      "damaged item bro\n"
     ]
    }
   ],
   "source": [
    "from vaderSentiment.vaderSentiment import SentimentIntensityAnalyzer\n",
    "\n",
    "# Initialize VADER\n",
    "analyzer = SentimentIntensityAnalyzer()\n",
    "\n",
    "# Function to get VADER sentiment score\n",
    "def get_vader_sentiment(text):\n",
    "    scores = analyzer.polarity_scores(text)\n",
    "    return scores['compound']\n",
    "\n",
    "# Apply to cleaned feedback\n",
    "df[\"vader_score\"] = df[\"cleaned_feedback\"].apply(get_vader_sentiment)\n",
    "\n",
    "# Classify sentiment\n",
    "def classify_vader_sentiment(score):\n",
    "    if score >= 0.05:\n",
    "        return \"Positive\"\n",
    "    elif score <= -0.05:\n",
    "        return \"Negative\"\n",
    "    else:\n",
    "        return \"Neutral\"\n",
    "\n",
    "df[\"vader_sentiment\"] = df[\"vader_score\"].apply(classify_vader_sentiment)\n",
    "\n",
    "# Show sentiment breakdown\n",
    "print(\"\\n📊 VADER Sentiment Distribution:\")\n",
    "print(df[\"vader_sentiment\"].value_counts())\n",
    "\n",
    "# View samples\n",
    "print(\"\\n🔍 VADER Positive Sample:\")\n",
    "print(df[df[\"vader_sentiment\"] == \"Positive\"].sample(1)[\"cleaned_feedback\"].values[0])\n",
    "\n",
    "print(\"\\n🔍 VADER Negative Sample:\")\n",
    "print(df[df[\"vader_sentiment\"] == \"Negative\"].sample(1)[\"cleaned_feedback\"].values[0])"
   ]
  },
  {
   "cell_type": "code",
   "execution_count": 17,
   "id": "f5aabcac",
   "metadata": {},
   "outputs": [],
   "source": [
    "from collections import Counter\n",
    "import string\n",
    "\n",
    "def tokenize(text):\n",
    "    # Remove punctuation\n",
    "    text = text.translate(str.maketrans('', '', string.punctuation))\n",
    "    # Tokenize and return\n",
    "    return text.lower().split()\n"
   ]
  },
  {
   "cell_type": "code",
   "execution_count": 18,
   "id": "f2290e5f",
   "metadata": {},
   "outputs": [
    {
     "name": "stdout",
     "output_type": "stream",
     "text": [
      "\n",
      "✨ Top Compliments:\n",
      "[('nice', 11), ('product', 11), ('great', 11), ('quality', 11), ('loved', 9)]\n",
      "\n",
      "🔥 Top Complaints:\n",
      "[('bad', 13), ('packaging', 13), ('damaged', 13), ('item', 13), ('worst', 13)]\n"
     ]
    }
   ],
   "source": [
    "# Tokenize positive and negative feedback\n",
    "positive_tokens = df[df[\"vader_sentiment\"] == \"Positive\"][\"cleaned_feedback\"].apply(tokenize).sum()\n",
    "negative_tokens = df[df[\"vader_sentiment\"] == \"Negative\"][\"cleaned_feedback\"].apply(tokenize).sum()\n",
    "\n",
    "# Count frequencies\n",
    "positive_freq = Counter(positive_tokens)\n",
    "negative_freq = Counter(negative_tokens)\n",
    "\n",
    "# Remove common filler words (basic stopwords)\n",
    "stopwords = set([\n",
    "    'the', 'is', 'and', 'to', 'it', 'of', 'on', 'in', 'for', 'with', 'pls', 'bro', 'macha', 'thnx'\n",
    "])\n",
    "\n",
    "positive_keywords = {word: count for word, count in positive_freq.items() if word not in stopwords}\n",
    "negative_keywords = {word: count for word, count in negative_freq.items() if word not in stopwords}\n",
    "\n",
    "# Show top 5\n",
    "print(\"\\n✨ Top Compliments:\")\n",
    "print(Counter(positive_keywords).most_common(5))\n",
    "\n",
    "print(\"\\n🔥 Top Complaints:\")\n",
    "print(Counter(negative_keywords).most_common(5))\n"
   ]
  }
 ],
 "metadata": {
  "kernelspec": {
   "display_name": "base",
   "language": "python",
   "name": "python3"
  },
  "language_info": {
   "codemirror_mode": {
    "name": "ipython",
    "version": 3
   },
   "file_extension": ".py",
   "mimetype": "text/x-python",
   "name": "python",
   "nbconvert_exporter": "python",
   "pygments_lexer": "ipython3",
   "version": "3.12.7"
  }
 },
 "nbformat": 4,
 "nbformat_minor": 5
}
